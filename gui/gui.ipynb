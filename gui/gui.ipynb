{
 "cells": [
  {
   "cell_type": "code",
   "execution_count": 1,
   "id": "e0a0b14d",
   "metadata": {},
   "outputs": [],
   "source": [
    "import tkinter as tk\n",
    "from PIL import ImageTk\n",
    "window = tk.Tk()\n",
    "# 第6步，定义选项触发函数功能\n",
    "def print_selection():\n",
    "    l1.config(text='you have selected ' + varbutton.get())\n",
    "    l5.config(text='the output picture is ')\n",
    "    if(varbutton.get()=='mix'):\n",
    "        label_img.config(image = img_png2)\n",
    "    else:\n",
    "         label_img.config(image = img_png)\n",
    "\n",
    "\n",
    " \n",
    "# 第2步，给窗口的可视化起名字\n",
    "window.title('My Window')\n",
    " \n",
    "# 第3步，设定窗口的大小(长 * 宽)\n",
    "window.geometry('5000x3000')  # 这里的乘是小x\n",
    " \n",
    "# 第4步，在图形界面上创建一个标签label用以显示并放置\n",
    "varbutton = tk.StringVar()    # 定义一个var用来将radiobutton的值和Label的值联系在一起.\n",
    "l1 = tk.Label(window, bg='yellow', width=100, text='Please choose your enviornment')\n",
    "l1.pack()\n",
    "# 第5步，创建三个radiobutton选项，其中variable=var, value='A'的意思就是，当我们鼠标选中了其中一个选项，把value的值A放到变量var中，然后赋值给variable\n",
    "r1 = tk.Radiobutton(window, text='underwater_dark', variable=varbutton, value='underwater_dark', command=print_selection)\n",
    "r1.pack()\n",
    "r2 = tk.Radiobutton(window, text='underwater_imagenet', variable=varbutton, value='underwater_imagenet', command=print_selection)\n",
    "r2.pack()\n",
    "r3 = tk.Radiobutton(window, text='underwater_scenes', variable=varbutton, value='underwater_scenes', command=print_selection)\n",
    "r3.pack()\n",
    "r4 = tk.Radiobutton(window, text='I do not know', variable=varbutton, value='mix', command=print_selection)\n",
    "r4.pack()\n",
    "l5 = tk.Label(window, bg='yellow', width=100, text='the original picture is: ')\n",
    "l5.pack()\n",
    "img_png = ImageTk.PhotoImage(file = '1.jpg')\n",
    "label_img = tk.Label(window, image = img_png)\n",
    "label_img.pack()\n",
    "img_png2 = ImageTk.PhotoImage(file = '12.jpg')\n",
    "  \n",
    "\n",
    "\n",
    "\n",
    "\n",
    "\n",
    "window.mainloop()"
   ]
  },
  {
   "cell_type": "code",
   "execution_count": null,
   "id": "fede7889",
   "metadata": {},
   "outputs": [],
   "source": []
  }
 ],
 "metadata": {
  "kernelspec": {
   "display_name": "Python 3 (ipykernel)",
   "language": "python",
   "name": "python3"
  },
  "language_info": {
   "codemirror_mode": {
    "name": "ipython",
    "version": 3
   },
   "file_extension": ".py",
   "mimetype": "text/x-python",
   "name": "python",
   "nbconvert_exporter": "python",
   "pygments_lexer": "ipython3",
   "version": "3.8.5"
  }
 },
 "nbformat": 4,
 "nbformat_minor": 5
}
